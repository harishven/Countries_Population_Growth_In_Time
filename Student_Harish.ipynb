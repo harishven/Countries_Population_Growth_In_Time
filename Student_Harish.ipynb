{
 "cells": [
  {
   "cell_type": "code",
   "execution_count": 7,
   "metadata": {},
   "outputs": [],
   "source": [
    "import csv\n",
    "import copy\n",
    "import operator\n",
    "from token import EQUAL\n",
    "from builtins import sorted"
   ]
  },
  {
   "cell_type": "code",
   "execution_count": 8,
   "metadata": {},
   "outputs": [],
   "source": [
    "#Open the CSV file\n",
    "reader = csv.reader(open('C:\\\\Users\\\\haris\\\\Downloads\\\\Largest_Cities_CSV.csv'), delimiter = \",\")\n"
   ]
  },
  {
   "cell_type": "code",
   "execution_count": 9,
   "metadata": {},
   "outputs": [],
   "source": [
    "#Initialize the variables\n",
    "u = 'State - Place'\n",
    "x = 'Year'\n",
    "y = 'Population'\n",
    "z = 'Harish - Rank'\n",
    "rows_so_far = 0\n",
    "c = 0"
   ]
  },
  {
   "cell_type": "code",
   "execution_count": 10,
   "metadata": {},
   "outputs": [],
   "source": [
    "# 2d array initialization\n",
    "pool = []\n",
    "pool.append([])\n",
    "\n",
    "for row in reader:\n",
    "    if rows_so_far == 0:\n",
    "        rows_so_far += 1\n",
    "        header = row\n",
    "        #Populate header\n",
    "        for j in range(0,4):\n",
    "            if j == 0:\n",
    "                pool.append([])\n",
    "                pool[0].append(u)\n",
    "            if j == 1:\n",
    "                pool[0].append(x)\n",
    "            if j == 2:\n",
    "                pool[0].append(y)\n",
    "            if j == 3:\n",
    "                pool[0].append(z)\n",
    "#populate items, append population of city for each year\n",
    "    else:\n",
    "        for i in range(len(row)-2):\n",
    "            a = len(pool)\n",
    "            if not row == []:\n",
    "                if i == 0 or i >=1:\n",
    "                    item = copy.deepcopy(row)\n",
    "                    r = copy.deepcopy(row)\n",
    "#populate values for the columns\n",
    "                    for j in range(0,4):\n",
    "                        if item[i+2] is not '':\n",
    "                            if j == 0:\n",
    "                                #concatenate state and city value\n",
    "                                r[0] =item[j+1]+' - ' +item[j]\n",
    "                                pool.append([])\n",
    "                                pool[a-1].append(r[0])\n",
    "                            #populate year\n",
    "                            if j==1:\n",
    "                                pool[a-1].append(int(header[i+2]))\n",
    "                            #populate population values\n",
    "                            if j==2:\n",
    "                                if item[i+2] == '':\n",
    "                                    pool[a-1].append(int(0))\n",
    "                                else:\n",
    "                                    pool[a-1].append(int(item[i+2]))\n",
    "                            #initialize rank to 0 \n",
    "                            if j ==3:\n",
    "                                pool[a-1].append(int(0))\n",
    "                                \n",
    "    rows_so_far += 1\n",
    "                        \n",
    "        \n"
   ]
  },
  {
   "cell_type": "code",
   "execution_count": 11,
   "metadata": {},
   "outputs": [],
   "source": [
    "a = len(pool)\n",
    "list = pool[1:a-1]\n",
    "#sort the list\n",
    "list.sort(key = lambda b: (b[1],b[2]), reverse=True)\n",
    "#add header to the list\n",
    "list1 = []\n",
    "list1.append([])\n",
    "list1[0] = pool[0]\n",
    "list1[1:a-1] = list[0:a-2]"
   ]
  },
  {
   "cell_type": "code",
   "execution_count": 16,
   "metadata": {},
   "outputs": [],
   "source": [
    "#convert to csv file\n",
    "mycsv = csv.writer(open('C:\\\\Users\\\\haris\\\\Downloads\\\\Harish.csv','w', newline = ''))\n",
    "for row in list1:\n",
    "    e = list1.index(row)\n",
    "    if row[1] != c and e != 0:\n",
    "        v = 1\n",
    "        c = row[1]\n",
    "        row[3] = v\n",
    "    else:\n",
    "        if row[1] == c and e != 0:\n",
    "            v+=1\n",
    "            row[3] = v\n",
    "\n",
    "    mycsv.writerow(row)"
   ]
  },
  {
   "cell_type": "code",
   "execution_count": null,
   "metadata": {},
   "outputs": [],
   "source": []
  }
 ],
 "metadata": {
  "kernelspec": {
   "display_name": "Python 3",
   "language": "python",
   "name": "python3"
  },
  "language_info": {
   "codemirror_mode": {
    "name": "ipython",
    "version": 3
   },
   "file_extension": ".py",
   "mimetype": "text/x-python",
   "name": "python",
   "nbconvert_exporter": "python",
   "pygments_lexer": "ipython3",
   "version": "3.7.4"
  }
 },
 "nbformat": 4,
 "nbformat_minor": 2
}
